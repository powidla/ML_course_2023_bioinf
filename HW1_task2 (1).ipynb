{
  "nbformat": 4,
  "nbformat_minor": 0,
  "metadata": {
    "colab": {
      "provenance": []
    },
    "kernelspec": {
      "name": "python3",
      "display_name": "Python 3"
    },
    "language_info": {
      "name": "python"
    }
  },
  "cells": [
    {
      "cell_type": "markdown",
      "source": [
        "Import libraries and installing moepy for lowess regression"
      ],
      "metadata": {
        "id": "LSpJ3yMFt9hg"
      }
    },
    {
      "cell_type": "code",
      "source": [
        "import pandas as pd\n",
        "import numpy as np\n",
        "import matplotlib.pyplot as plt\n",
        "import seaborn as sns \n",
        "import warnings\n",
        "from sklearn.model_selection import train_test_split\n",
        "from sklearn.preprocessing import PolynomialFeatures\n",
        "from sklearn.model_selection import GridSearchCV\n",
        "from sklearn import linear_model\n",
        "from sklearn.pipeline import make_pipeline\n",
        "from sklearn.pipeline import Pipeline\n",
        "from sklearn.model_selection import cross_val_score \n",
        "from sklearn.preprocessing import StandardScaler\n",
        "from sklearn.linear_model import LinearRegression, Ridge, Lasso, ElasticNet\n",
        "from sklearn.linear_model import LinearRegression, LassoCV, RidgeCV, ElasticNetCV\n",
        "import statsmodels.api as sm\n",
        "import plotly.graph_objects as go \n",
        "from sklearn.metrics import mean_squared_error\n",
        "from statsmodels.nonparametric.smoothers_lowess import lowess"
      ],
      "metadata": {
        "id": "pNs0fsTyt73t"
      },
      "execution_count": 184,
      "outputs": []
    },
    {
      "cell_type": "code",
      "source": [
        "warnings.filterwarnings(\"ignore\")"
      ],
      "metadata": {
        "id": "5QpnZAMT3lBm"
      },
      "execution_count": 3,
      "outputs": []
    },
    {
      "cell_type": "markdown",
      "source": [
        "# Reading the data with pandas"
      ],
      "metadata": {
        "id": "wREN1Sw9J1bI"
      }
    },
    {
      "cell_type": "code",
      "source": [
        "df = pd.read_csv(\"hw1.EX2.csv\")\n",
        "df.head(5)"
      ],
      "metadata": {
        "colab": {
          "base_uri": "https://localhost:8080/",
          "height": 206
        },
        "id": "R7lqh8C6JA_Q",
        "outputId": "5cb3b4bf-b705-4afb-8b8f-029376c10368"
      },
      "execution_count": 4,
      "outputs": [
        {
          "output_type": "execute_result",
          "data": {
            "text/plain": [
              "           X     Y\n",
              "0   84.87882  37.9\n",
              "1  306.59470  42.2\n",
              "2  561.98450  47.3\n",
              "3  561.98450  54.8\n",
              "4  390.56840  43.1"
            ],
            "text/html": [
              "\n",
              "  <div id=\"df-acaf4eec-139b-4c45-952d-cc43858d57ff\">\n",
              "    <div class=\"colab-df-container\">\n",
              "      <div>\n",
              "<style scoped>\n",
              "    .dataframe tbody tr th:only-of-type {\n",
              "        vertical-align: middle;\n",
              "    }\n",
              "\n",
              "    .dataframe tbody tr th {\n",
              "        vertical-align: top;\n",
              "    }\n",
              "\n",
              "    .dataframe thead th {\n",
              "        text-align: right;\n",
              "    }\n",
              "</style>\n",
              "<table border=\"1\" class=\"dataframe\">\n",
              "  <thead>\n",
              "    <tr style=\"text-align: right;\">\n",
              "      <th></th>\n",
              "      <th>X</th>\n",
              "      <th>Y</th>\n",
              "    </tr>\n",
              "  </thead>\n",
              "  <tbody>\n",
              "    <tr>\n",
              "      <th>0</th>\n",
              "      <td>84.87882</td>\n",
              "      <td>37.9</td>\n",
              "    </tr>\n",
              "    <tr>\n",
              "      <th>1</th>\n",
              "      <td>306.59470</td>\n",
              "      <td>42.2</td>\n",
              "    </tr>\n",
              "    <tr>\n",
              "      <th>2</th>\n",
              "      <td>561.98450</td>\n",
              "      <td>47.3</td>\n",
              "    </tr>\n",
              "    <tr>\n",
              "      <th>3</th>\n",
              "      <td>561.98450</td>\n",
              "      <td>54.8</td>\n",
              "    </tr>\n",
              "    <tr>\n",
              "      <th>4</th>\n",
              "      <td>390.56840</td>\n",
              "      <td>43.1</td>\n",
              "    </tr>\n",
              "  </tbody>\n",
              "</table>\n",
              "</div>\n",
              "      <button class=\"colab-df-convert\" onclick=\"convertToInteractive('df-acaf4eec-139b-4c45-952d-cc43858d57ff')\"\n",
              "              title=\"Convert this dataframe to an interactive table.\"\n",
              "              style=\"display:none;\">\n",
              "        \n",
              "  <svg xmlns=\"http://www.w3.org/2000/svg\" height=\"24px\"viewBox=\"0 0 24 24\"\n",
              "       width=\"24px\">\n",
              "    <path d=\"M0 0h24v24H0V0z\" fill=\"none\"/>\n",
              "    <path d=\"M18.56 5.44l.94 2.06.94-2.06 2.06-.94-2.06-.94-.94-2.06-.94 2.06-2.06.94zm-11 1L8.5 8.5l.94-2.06 2.06-.94-2.06-.94L8.5 2.5l-.94 2.06-2.06.94zm10 10l.94 2.06.94-2.06 2.06-.94-2.06-.94-.94-2.06-.94 2.06-2.06.94z\"/><path d=\"M17.41 7.96l-1.37-1.37c-.4-.4-.92-.59-1.43-.59-.52 0-1.04.2-1.43.59L10.3 9.45l-7.72 7.72c-.78.78-.78 2.05 0 2.83L4 21.41c.39.39.9.59 1.41.59.51 0 1.02-.2 1.41-.59l7.78-7.78 2.81-2.81c.8-.78.8-2.07 0-2.86zM5.41 20L4 18.59l7.72-7.72 1.47 1.35L5.41 20z\"/>\n",
              "  </svg>\n",
              "      </button>\n",
              "      \n",
              "  <style>\n",
              "    .colab-df-container {\n",
              "      display:flex;\n",
              "      flex-wrap:wrap;\n",
              "      gap: 12px;\n",
              "    }\n",
              "\n",
              "    .colab-df-convert {\n",
              "      background-color: #E8F0FE;\n",
              "      border: none;\n",
              "      border-radius: 50%;\n",
              "      cursor: pointer;\n",
              "      display: none;\n",
              "      fill: #1967D2;\n",
              "      height: 32px;\n",
              "      padding: 0 0 0 0;\n",
              "      width: 32px;\n",
              "    }\n",
              "\n",
              "    .colab-df-convert:hover {\n",
              "      background-color: #E2EBFA;\n",
              "      box-shadow: 0px 1px 2px rgba(60, 64, 67, 0.3), 0px 1px 3px 1px rgba(60, 64, 67, 0.15);\n",
              "      fill: #174EA6;\n",
              "    }\n",
              "\n",
              "    [theme=dark] .colab-df-convert {\n",
              "      background-color: #3B4455;\n",
              "      fill: #D2E3FC;\n",
              "    }\n",
              "\n",
              "    [theme=dark] .colab-df-convert:hover {\n",
              "      background-color: #434B5C;\n",
              "      box-shadow: 0px 1px 3px 1px rgba(0, 0, 0, 0.15);\n",
              "      filter: drop-shadow(0px 1px 2px rgba(0, 0, 0, 0.3));\n",
              "      fill: #FFFFFF;\n",
              "    }\n",
              "  </style>\n",
              "\n",
              "      <script>\n",
              "        const buttonEl =\n",
              "          document.querySelector('#df-acaf4eec-139b-4c45-952d-cc43858d57ff button.colab-df-convert');\n",
              "        buttonEl.style.display =\n",
              "          google.colab.kernel.accessAllowed ? 'block' : 'none';\n",
              "\n",
              "        async function convertToInteractive(key) {\n",
              "          const element = document.querySelector('#df-acaf4eec-139b-4c45-952d-cc43858d57ff');\n",
              "          const dataTable =\n",
              "            await google.colab.kernel.invokeFunction('convertToInteractive',\n",
              "                                                     [key], {});\n",
              "          if (!dataTable) return;\n",
              "\n",
              "          const docLinkHtml = 'Like what you see? Visit the ' +\n",
              "            '<a target=\"_blank\" href=https://colab.research.google.com/notebooks/data_table.ipynb>data table notebook</a>'\n",
              "            + ' to learn more about interactive tables.';\n",
              "          element.innerHTML = '';\n",
              "          dataTable['output_type'] = 'display_data';\n",
              "          await google.colab.output.renderOutput(dataTable, element);\n",
              "          const docLink = document.createElement('div');\n",
              "          docLink.innerHTML = docLinkHtml;\n",
              "          element.appendChild(docLink);\n",
              "        }\n",
              "      </script>\n",
              "    </div>\n",
              "  </div>\n",
              "  "
            ]
          },
          "metadata": {},
          "execution_count": 4
        }
      ]
    },
    {
      "cell_type": "code",
      "source": [
        "y = df.Y\n",
        "X = df.X"
      ],
      "metadata": {
        "id": "IbvwojuaJ74E"
      },
      "execution_count": 5,
      "outputs": []
    },
    {
      "cell_type": "markdown",
      "source": [
        "Take a brief look on data visualized by scatter plot"
      ],
      "metadata": {
        "id": "AcD0pOoCYY04"
      }
    },
    {
      "cell_type": "code",
      "source": [
        "plt.scatter(X, y)\n",
        "plt.xlabel('Feature X')\n",
        "plt.ylabel('Target y')"
      ],
      "metadata": {
        "colab": {
          "base_uri": "https://localhost:8080/",
          "height": 466
        },
        "id": "57hO0doLYQyQ",
        "outputId": "6d9a7f19-ed8c-4095-f506-f7a55107b0b4"
      },
      "execution_count": 6,
      "outputs": [
        {
          "output_type": "execute_result",
          "data": {
            "text/plain": [
              "Text(0, 0.5, 'Target y')"
            ]
          },
          "metadata": {},
          "execution_count": 6
        },
        {
          "output_type": "display_data",
          "data": {
            "text/plain": [
              "<Figure size 640x480 with 1 Axes>"
            ],
            "image/png": "[encoded data removed]"
          },
          "metadata": {}
        }
      ]
    },
    {
      "cell_type": "markdown",
      "source": [
        "Simple linear regression is not capable of performing any good here so some polynomial features might come in handy, but it hard to expect decent value of any quality metric"
      ],
      "metadata": {
        "id": "ZCB4zf1SZQ_k"
      }
    },
    {
      "cell_type": "markdown",
      "source": [
        "# Train dev test split for dataset"
      ],
      "metadata": {
        "id": "eZ90alr7J4_j"
      }
    },
    {
      "cell_type": "markdown",
      "source": [
        "Sklearn-built function train-test-split cannot fulfill our need for splitting dataset into 3 parts, so we can use it twice to gain 3 sets of data"
      ],
      "metadata": {
        "id": "KITynEODaPXk"
      }
    },
    {
      "cell_type": "code",
      "source": [
        "# Function for train_dev_test split\n",
        "train_rate = 0.6\n",
        "dev_rate = 0.2\n",
        "test_rate = 0.2\n",
        "\n",
        "def train_dev_test_split(df, train_rate=train_rate, dev_rate=dev_rate, test_rate=test_rate):\n",
        "    '''\n",
        "    Splits data into X_train, X_dev, X_test, y_train, y_dev, y_test\n",
        "    using twice function of train_test_split\n",
        "    '''\n",
        "    X = df.iloc[:, :-1].values\n",
        "    Y = df.iloc[:, -1].values\n",
        "    X_train, X_temp, y_train, y_temp = train_test_split(X,\n",
        "                                                          Y,\n",
        "                                                          test_size=1.0 - train_rate,\n",
        "                                                          random_state=42)\n",
        "    relative_frac_test = test_rate / (dev_rate + test_rate)\n",
        "    X_dev, X_test, y_dev, y_test = train_test_split(X_temp,\n",
        "                                                      y_temp,\n",
        "                                                      test_size=relative_frac_test,\n",
        "                                                      random_state=42)\n",
        "\n",
        "    assert len(df) == len(X_train) + len(X_dev) + len(X_test)\n",
        "    # X_train, X_dev, X_test = df_train.X, df_val.X, df_test.X\n",
        "    # y_train, y_dev, y_test = df_train.y, df_val.y, df_test.y\n",
        "    return X_train, X_dev, X_test, y_train, y_dev, y_test\n",
        "\n",
        "\n",
        "def to_df(X_train, X_dev, X_test, y_train, y_dev, y_test):\n",
        "  '''\n",
        "  Creates dataframes for splitted data\n",
        "  '''\n",
        "  df_train = pd.DataFrame(X_train, columns=['X'])\n",
        "  df_dev = pd.DataFrame(X_dev, columns=['X'])\n",
        "  df_test = pd.DataFrame(X_test, columns=['X'])\n",
        "  df_train[\"Y\"] = y_train\n",
        "  df_dev[\"Y\"] = y_dev\n",
        "  df_test[\"Y\"] = y_test\n",
        "  return df_train, df_dev, df_test"
      ],
      "metadata": {
        "id": "UEq0TynVLaL4"
      },
      "execution_count": 80,
      "outputs": []
    },
    {
      "cell_type": "code",
      "source": [
        "X_train, X_dev, X_test, y_train, y_dev, y_test = train_dev_test_split(df)"
      ],
      "metadata": {
        "id": "dWm4E33BgQKG"
      },
      "execution_count": 81,
      "outputs": []
    },
    {
      "cell_type": "code",
      "source": [
        "df_train, df_dev, df_test = to_df(X_train, X_dev, X_test, y_train, y_dev, y_test)"
      ],
      "metadata": {
        "id": "pdPN-CQalMyB"
      },
      "execution_count": 83,
      "outputs": []
    },
    {
      "cell_type": "markdown",
      "source": [
        "# Fitting OLS with PolyFeatures, finding best degree via GridSearchCV vs loop"
      ],
      "metadata": {
        "id": "ys7IIhNHi03J"
      }
    },
    {
      "cell_type": "markdown",
      "source": [
        "In assignment it was stated to fit model on test data so it has done here like this, but one could get better score by fitting on train data. We can apply GridSearch to look for best degree, but using loop is also fine as long as we does not take into account our ram"
      ],
      "metadata": {
        "id": "gqZeyDNnxbAb"
      }
    },
    {
      "cell_type": "code",
      "source": [
        "ols=linear_model.LinearRegression()"
      ],
      "metadata": {
        "id": "PAJpuNXVpvNB"
      },
      "execution_count": 84,
      "outputs": []
    },
    {
      "cell_type": "code",
      "source": [
        "def PolynomialRegression(degree=5, **kwargs):\n",
        "    '''\n",
        "    Creates a pipeline of Linear Regression with poly features\n",
        "    '''\n",
        "    return make_pipeline(PolynomialFeatures(degree), ols)\n",
        "\n",
        "param_grid = {'polynomialfeatures__degree': np.arange(20)}\n",
        "\n",
        "poly_grid = GridSearchCV(PolynomialRegression(), param_grid, cv=10, scoring='neg_mean_squared_error')\n",
        "poly_grid.fit(X_test.reshape(-1, 1), y_test)\n",
        "print(\"\\n The best score across ALL searched params:\\n\", poly_grid.best_score_)\n",
        "print(\"\\n The best parameters across ALL searched params:\\n\", poly_grid.best_params_)"
      ],
      "metadata": {
        "colab": {
          "base_uri": "https://localhost:8080/"
        },
        "id": "AuhRqC4lmTfK",
        "outputId": "3962ebc3-bfb1-4828-9a02-78e7c5ee1833"
      },
      "execution_count": 85,
      "outputs": [
        {
          "output_type": "stream",
          "name": "stdout",
          "text": [
            "\n",
            " The best score across ALL searched params:\n",
            " -58.86016244055577\n",
            "\n",
            " The best parameters across ALL searched params:\n",
            " {'polynomialfeatures__degree': 4}\n"
          ]
        }
      ]
    },
    {
      "cell_type": "code",
      "source": [
        "degrees = np.arange(20) \n",
        "best_score = 0\n",
        "best_degree = 0\n",
        "for degree in degrees:\n",
        "        poly_features = PolynomialFeatures(degree = degree)\n",
        "        X_train_poly = poly_features.fit_transform(X_test, y_test)\n",
        "        polynomial_regressor = ols\n",
        "        polynomial_regressor.fit(X_train_poly, y_test)\n",
        "        scores = cross_val_score(polynomial_regressor, X_train_poly, y_test, cv=10) \n",
        "        if max(scores) > best_score:\n",
        "            best_score = max(scores)\n",
        "            best_degree = degree"
      ],
      "metadata": {
        "id": "XduTXrcJttw9"
      },
      "execution_count": 92,
      "outputs": []
    },
    {
      "cell_type": "code",
      "source": [
        "print(best_degree)"
      ],
      "metadata": {
        "colab": {
          "base_uri": "https://localhost:8080/"
        },
        "id": "nznIhfa0ugVq",
        "outputId": "7c19cece-772a-4adf-d9e4-bb75b84f8032"
      },
      "execution_count": 231,
      "outputs": [
        {
          "output_type": "stream",
          "name": "stdout",
          "text": [
            "5\n"
          ]
        }
      ]
    },
    {
      "cell_type": "code",
      "source": [
        "poly_features = PolynomialFeatures(degree = best_degree)\n",
        "X_train_poly = poly_features.fit_transform(X_dev, y_dev)\n",
        "best_polynomial_regressor = ols\n",
        "polynomial_regressor.fit(X_train_poly, y_dev)"
      ],
      "metadata": {
        "colab": {
          "base_uri": "https://localhost:8080/",
          "height": 74
        },
        "id": "Rrw5szPGu5R9",
        "outputId": "df3eb4c8-95ff-4654-b6e4-1ecaab4f9b48"
      },
      "execution_count": 90,
      "outputs": [
        {
          "output_type": "execute_result",
          "data": {
            "text/plain": [
              "LinearRegression()"
            ],
            "text/html": [
              "<style>#sk-container-id-7 {color: black;background-color: white;}#sk-container-id-7 pre{padding: 0;}#sk-container-id-7 div.sk-toggleable {background-color: white;}#sk-container-id-7 label.sk-toggleable__label {cursor: pointer;display: block;width: 100%;margin-bottom: 0;padding: 0.3em;box-sizing: border-box;text-align: center;}#sk-container-id-7 label.sk-toggleable__label-arrow:before {content: \"▸\";float: left;margin-right: 0.25em;color: #696969;}#sk-container-id-7 label.sk-toggleable__label-arrow:hover:before {color: black;}#sk-container-id-7 div.sk-estimator:hover label.sk-toggleable__label-arrow:before {color: black;}#sk-container-id-7 div.sk-toggleable__content {max-height: 0;max-width: 0;overflow: hidden;text-align: left;background-color: #f0f8ff;}#sk-container-id-7 div.sk-toggleable__content pre {margin: 0.2em;color: black;border-radius: 0.25em;background-color: #f0f8ff;}#sk-container-id-7 input.sk-toggleable__control:checked~div.sk-toggleable__content {max-height: 200px;max-width: 100%;overflow: auto;}#sk-container-id-7 input.sk-toggleable__control:checked~label.sk-toggleable__label-arrow:before {content: \"▾\";}#sk-container-id-7 div.sk-estimator input.sk-toggleable__control:checked~label.sk-toggleable__label {background-color: #d4ebff;}#sk-container-id-7 div.sk-label input.sk-toggleable__control:checked~label.sk-toggleable__label {background-color: #d4ebff;}#sk-container-id-7 input.sk-hidden--visually {border: 0;clip: rect(1px 1px 1px 1px);clip: rect(1px, 1px, 1px, 1px);height: 1px;margin: -1px;overflow: hidden;padding: 0;position: absolute;width: 1px;}#sk-container-id-7 div.sk-estimator {font-family: monospace;background-color: #f0f8ff;border: 1px dotted black;border-radius: 0.25em;box-sizing: border-box;margin-bottom: 0.5em;}#sk-container-id-7 div.sk-estimator:hover {background-color: #d4ebff;}#sk-container-id-7 div.sk-parallel-item::after {content: \"\";width: 100%;border-bottom: 1px solid gray;flex-grow: 1;}#sk-container-id-7 div.sk-label:hover label.sk-toggleable__label {background-color: #d4ebff;}#sk-container-id-7 div.sk-serial::before {content: \"\";position: absolute;border-left: 1px solid gray;box-sizing: border-box;top: 0;bottom: 0;left: 50%;z-index: 0;}#sk-container-id-7 div.sk-serial {display: flex;flex-direction: column;align-items: center;background-color: white;padding-right: 0.2em;padding-left: 0.2em;position: relative;}#sk-container-id-7 div.sk-item {position: relative;z-index: 1;}#sk-container-id-7 div.sk-parallel {display: flex;align-items: stretch;justify-content: center;background-color: white;position: relative;}#sk-container-id-7 div.sk-item::before, #sk-container-id-7 div.sk-parallel-item::before {content: \"\";position: absolute;border-left: 1px solid gray;box-sizing: border-box;top: 0;bottom: 0;left: 50%;z-index: -1;}#sk-container-id-7 div.sk-parallel-item {display: flex;flex-direction: column;z-index: 1;position: relative;background-color: white;}#sk-container-id-7 div.sk-parallel-item:first-child::after {align-self: flex-end;width: 50%;}#sk-container-id-7 div.sk-parallel-item:last-child::after {align-self: flex-start;width: 50%;}#sk-container-id-7 div.sk-parallel-item:only-child::after {width: 0;}#sk-container-id-7 div.sk-dashed-wrapped {border: 1px dashed gray;margin: 0 0.4em 0.5em 0.4em;box-sizing: border-box;padding-bottom: 0.4em;background-color: white;}#sk-container-id-7 div.sk-label label {font-family: monospace;font-weight: bold;display: inline-block;line-height: 1.2em;}#sk-container-id-7 div.sk-label-container {text-align: center;}#sk-container-id-7 div.sk-container {/* jupyter's `normalize.less` sets `[hidden] { display: none; }` but bootstrap.min.css set `[hidden] { display: none !important; }` so we also need the `!important` here to be able to override the default hidden behavior on the sphinx rendered scikit-learn.org. See: https://github.com/scikit-learn/scikit-learn/issues/21755 */display: inline-block !important;position: relative;}#sk-container-id-7 div.sk-text-repr-fallback {display: none;}</style><div id=\"sk-container-id-7\" class=\"sk-top-container\"><div class=\"sk-text-repr-fallback\"><pre>LinearRegression()</pre><b>In a Jupyter environment, please rerun this cell to show the HTML representation or trust the notebook. <br />On GitHub, the HTML representation is unable to render, please try loading this page with nbviewer.org.</b></div><div class=\"sk-container\" hidden><div class=\"sk-item\"><div class=\"sk-estimator sk-toggleable\"><input class=\"sk-toggleable__control sk-hidden--visually\" id=\"sk-estimator-id-7\" type=\"checkbox\" checked><label for=\"sk-estimator-id-7\" class=\"sk-toggleable__label sk-toggleable__label-arrow\">LinearRegression</label><div class=\"sk-toggleable__content\"><pre>LinearRegression()</pre></div></div></div></div></div>"
            ]
          },
          "metadata": {},
          "execution_count": 90
        }
      ]
    },
    {
      "cell_type": "markdown",
      "source": [
        "Performing the same procedure but ftting on train set instead"
      ],
      "metadata": {
        "id": "eR--LJKvyO40"
      }
    },
    {
      "cell_type": "code",
      "source": [
        "poly_grid = GridSearchCV(PolynomialRegression(), param_grid, cv=10, scoring='neg_mean_squared_error')\n",
        "poly_grid.fit(X_train, y_train)\n",
        "print(\"\\n The best score across ALL searched params:\\n\", poly_grid.best_score_)\n",
        "print(\"\\n The best parameters across ALL searched params:\\n\", poly_grid.best_params_)"
      ],
      "metadata": {
        "colab": {
          "base_uri": "https://localhost:8080/"
        },
        "id": "BH8ILIF3yXGE",
        "outputId": "9fca00dc-d341-44a8-b94e-1bd7677d4725"
      },
      "execution_count": 107,
      "outputs": [
        {
          "output_type": "stream",
          "name": "stdout",
          "text": [
            "\n",
            " The best score across ALL searched params:\n",
            " -92.09771411691501\n",
            "\n",
            " The best parameters across ALL searched params:\n",
            " {'polynomialfeatures__degree': 4}\n"
          ]
        }
      ]
    },
    {
      "cell_type": "code",
      "source": [
        "degrees = np.arange(20) \n",
        "best_score = 0\n",
        "best_degree = 0\n",
        "for degree in degrees:\n",
        "        poly_features = PolynomialFeatures(degree = degree)\n",
        "        X_train_poly = poly_features.fit_transform(X_train, y_train)\n",
        "        polynomial_regressor = ols\n",
        "        polynomial_regressor.fit(X_train_poly, y_train)\n",
        "        scores = cross_val_score(polynomial_regressor, X_train_poly, y_train, cv=10) \n",
        "        if max(scores) > best_score:\n",
        "            best_score = max(scores)\n",
        "            best_degree = degree"
      ],
      "metadata": {
        "id": "1WY0YQDbyXUr"
      },
      "execution_count": 95,
      "outputs": []
    },
    {
      "cell_type": "code",
      "source": [
        "print(best_degree)"
      ],
      "metadata": {
        "colab": {
          "base_uri": "https://localhost:8080/"
        },
        "id": "DNMCbPmWynPw",
        "outputId": "b2ae621e-931d-4993-8127-e2d00f8d0e94"
      },
      "execution_count": 230,
      "outputs": [
        {
          "output_type": "stream",
          "name": "stdout",
          "text": [
            "5\n"
          ]
        }
      ]
    },
    {
      "cell_type": "code",
      "source": [
        "poly_features = PolynomialFeatures(degree = best_degree)\n",
        "X_train_poly = poly_features.fit_transform(X_dev, y_dev)\n",
        "best_polynomial_regressor = ols\n",
        "polynomial_regressor.fit(X_train_poly, y_dev)"
      ],
      "metadata": {
        "colab": {
          "base_uri": "https://localhost:8080/",
          "height": 74
        },
        "id": "KP-lVHWc2Kzg",
        "outputId": "f43697f6-3f5b-4c05-9789-20a06812bedf"
      },
      "execution_count": 97,
      "outputs": [
        {
          "output_type": "execute_result",
          "data": {
            "text/plain": [
              "LinearRegression()"
            ],
            "text/html": [
              "<style>#sk-container-id-8 {color: black;background-color: white;}#sk-container-id-8 pre{padding: 0;}#sk-container-id-8 div.sk-toggleable {background-color: white;}#sk-container-id-8 label.sk-toggleable__label {cursor: pointer;display: block;width: 100%;margin-bottom: 0;padding: 0.3em;box-sizing: border-box;text-align: center;}#sk-container-id-8 label.sk-toggleable__label-arrow:before {content: \"▸\";float: left;margin-right: 0.25em;color: #696969;}#sk-container-id-8 label.sk-toggleable__label-arrow:hover:before {color: black;}#sk-container-id-8 div.sk-estimator:hover label.sk-toggleable__label-arrow:before {color: black;}#sk-container-id-8 div.sk-toggleable__content {max-height: 0;max-width: 0;overflow: hidden;text-align: left;background-color: #f0f8ff;}#sk-container-id-8 div.sk-toggleable__content pre {margin: 0.2em;color: black;border-radius: 0.25em;background-color: #f0f8ff;}#sk-container-id-8 input.sk-toggleable__control:checked~div.sk-toggleable__content {max-height: 200px;max-width: 100%;overflow: auto;}#sk-container-id-8 input.sk-toggleable__control:checked~label.sk-toggleable__label-arrow:before {content: \"▾\";}#sk-container-id-8 div.sk-estimator input.sk-toggleable__control:checked~label.sk-toggleable__label {background-color: #d4ebff;}#sk-container-id-8 div.sk-label input.sk-toggleable__control:checked~label.sk-toggleable__label {background-color: #d4ebff;}#sk-container-id-8 input.sk-hidden--visually {border: 0;clip: rect(1px 1px 1px 1px);clip: rect(1px, 1px, 1px, 1px);height: 1px;margin: -1px;overflow: hidden;padding: 0;position: absolute;width: 1px;}#sk-container-id-8 div.sk-estimator {font-family: monospace;background-color: #f0f8ff;border: 1px dotted black;border-radius: 0.25em;box-sizing: border-box;margin-bottom: 0.5em;}#sk-container-id-8 div.sk-estimator:hover {background-color: #d4ebff;}#sk-container-id-8 div.sk-parallel-item::after {content: \"\";width: 100%;border-bottom: 1px solid gray;flex-grow: 1;}#sk-container-id-8 div.sk-label:hover label.sk-toggleable__label {background-color: #d4ebff;}#sk-container-id-8 div.sk-serial::before {content: \"\";position: absolute;border-left: 1px solid gray;box-sizing: border-box;top: 0;bottom: 0;left: 50%;z-index: 0;}#sk-container-id-8 div.sk-serial {display: flex;flex-direction: column;align-items: center;background-color: white;padding-right: 0.2em;padding-left: 0.2em;position: relative;}#sk-container-id-8 div.sk-item {position: relative;z-index: 1;}#sk-container-id-8 div.sk-parallel {display: flex;align-items: stretch;justify-content: center;background-color: white;position: relative;}#sk-container-id-8 div.sk-item::before, #sk-container-id-8 div.sk-parallel-item::before {content: \"\";position: absolute;border-left: 1px solid gray;box-sizing: border-box;top: 0;bottom: 0;left: 50%;z-index: -1;}#sk-container-id-8 div.sk-parallel-item {display: flex;flex-direction: column;z-index: 1;position: relative;background-color: white;}#sk-container-id-8 div.sk-parallel-item:first-child::after {align-self: flex-end;width: 50%;}#sk-container-id-8 div.sk-parallel-item:last-child::after {align-self: flex-start;width: 50%;}#sk-container-id-8 div.sk-parallel-item:only-child::after {width: 0;}#sk-container-id-8 div.sk-dashed-wrapped {border: 1px dashed gray;margin: 0 0.4em 0.5em 0.4em;box-sizing: border-box;padding-bottom: 0.4em;background-color: white;}#sk-container-id-8 div.sk-label label {font-family: monospace;font-weight: bold;display: inline-block;line-height: 1.2em;}#sk-container-id-8 div.sk-label-container {text-align: center;}#sk-container-id-8 div.sk-container {/* jupyter's `normalize.less` sets `[hidden] { display: none; }` but bootstrap.min.css set `[hidden] { display: none !important; }` so we also need the `!important` here to be able to override the default hidden behavior on the sphinx rendered scikit-learn.org. See: https://github.com/scikit-learn/scikit-learn/issues/21755 */display: inline-block !important;position: relative;}#sk-container-id-8 div.sk-text-repr-fallback {display: none;}</style><div id=\"sk-container-id-8\" class=\"sk-top-container\"><div class=\"sk-text-repr-fallback\"><pre>LinearRegression()</pre><b>In a Jupyter environment, please rerun this cell to show the HTML representation or trust the notebook. <br />On GitHub, the HTML representation is unable to render, please try loading this page with nbviewer.org.</b></div><div class=\"sk-container\" hidden><div class=\"sk-item\"><div class=\"sk-estimator sk-toggleable\"><input class=\"sk-toggleable__control sk-hidden--visually\" id=\"sk-estimator-id-8\" type=\"checkbox\" checked><label for=\"sk-estimator-id-8\" class=\"sk-toggleable__label sk-toggleable__label-arrow\">LinearRegression</label><div class=\"sk-toggleable__content\"><pre>LinearRegression()</pre></div></div></div></div></div>"
            ]
          },
          "metadata": {},
          "execution_count": 97
        }
      ]
    },
    {
      "cell_type": "markdown",
      "source": [
        "# Normalization"
      ],
      "metadata": {
        "id": "Xs4LieQbvxcM"
      }
    },
    {
      "cell_type": "markdown",
      "source": [
        "Using normalization like $\\frac{x-\\mu}{\\sigma} $. It is better to apply normalization on 3 datasets(train, dev, test) separately"
      ],
      "metadata": {
        "id": "a11Garx2br75"
      }
    },
    {
      "cell_type": "code",
      "source": [
        "scaler = StandardScaler()\n",
        "X_train_scaled = scaler.fit_transform(X_train)\n",
        "X_dev_scaled = scaler.transform(X_dev)\n",
        "X_test_scaled = scaler.transform(X_test)"
      ],
      "metadata": {
        "id": "sOu3YZVAvzGh"
      },
      "execution_count": 167,
      "outputs": []
    },
    {
      "cell_type": "markdown",
      "source": [
        "# Regularizations"
      ],
      "metadata": {
        "id": "EuZqrQBI3HIU"
      }
    },
    {
      "cell_type": "markdown",
      "source": [
        "Adding all 3 regulatizations and noticing performance on scaled data"
      ],
      "metadata": {
        "id": "u__M6hKjcZ2g"
      }
    },
    {
      "cell_type": "markdown",
      "source": [
        "Ridge"
      ],
      "metadata": {
        "id": "zkIgEsUi484g"
      }
    },
    {
      "cell_type": "code",
      "source": [
        "ridge_pipe = Pipeline([\n",
        "    ('pf', PolynomialFeatures(degree=5)),\n",
        "    ('ridge', Ridge())])\n",
        "ridge_pipe_params = {'ridge__alpha':[0.001, 0.01, 0.1, 0, 1, 10]}"
      ],
      "metadata": {
        "id": "c1wnLti2zd06"
      },
      "execution_count": 143,
      "outputs": []
    },
    {
      "cell_type": "code",
      "source": [
        "gs_ridge_pipe = GridSearchCV(estimator=ridge_pipe, param_grid=ridge_pipe_params, cv=10, verbose=0)\n",
        "\n",
        "gs_ridge_pipe.fit(X_train_scaled, y_train)\n",
        "gs_ridge_predict = ridge_pipe.predict(X_test_scaled)\n",
        "gs_ridge_pipe.best_params_"
      ],
      "metadata": {
        "colab": {
          "base_uri": "https://localhost:8080/"
        },
        "id": "d8YA7JK_1iFY",
        "outputId": "8d4c90c5-44ea-42c5-968d-eea9b69a909b"
      },
      "execution_count": 109,
      "outputs": [
        {
          "output_type": "execute_result",
          "data": {
            "text/plain": [
              "{'ridge__alpha': 10}"
            ]
          },
          "metadata": {},
          "execution_count": 109
        }
      ]
    },
    {
      "cell_type": "code",
      "source": [
        "gs_ridge_predict = gs_ridge_pipe.predict(X_test_scaled)\n",
        "print(f\"MSE for Ridge: {mean_squared_error(gs_ridge_predict, y_test)}\")"
      ],
      "metadata": {
        "colab": {
          "base_uri": "https://localhost:8080/"
        },
        "id": "kTw8YdUfWUWb",
        "outputId": "af068b0a-93b2-4c2d-98c5-4bd0988fe92d"
      },
      "execution_count": 225,
      "outputs": [
        {
          "output_type": "stream",
          "name": "stdout",
          "text": [
            "MSE for Ridge: 48.13373566536742\n"
          ]
        }
      ]
    },
    {
      "cell_type": "markdown",
      "source": [
        "Best parameter for Ridge is 10"
      ],
      "metadata": {
        "id": "4nFE1rd0YKAG"
      }
    },
    {
      "cell_type": "markdown",
      "source": [
        "Lasso"
      ],
      "metadata": {
        "id": "lFOnJS8x4-0X"
      }
    },
    {
      "cell_type": "code",
      "source": [
        "lasso_pipe = Pipeline([\n",
        "    ('pf', PolynomialFeatures(degree=5)),\n",
        "    ('lasso', Lasso())])\n",
        "lasso_pipe_params = {'lasso__alpha':[0.001, 0.01, 0.1, 0.3, 1, 2, 3, 4, 5, 6, 6.1, 8, 9, 10, 100]}"
      ],
      "metadata": {
        "id": "9ODnqvf41stB"
      },
      "execution_count": 221,
      "outputs": []
    },
    {
      "cell_type": "code",
      "source": [
        "gs_lasso_pipe = GridSearchCV(estimator=lasso_pipe, param_grid=lasso_pipe_params, cv=5, verbose=0)\n",
        "\n",
        "gs_lasso_pipe.fit(X_train_scaled.reshape(-1, 1), y_train)\n",
        "gs_lasso_pipe.best_params_"
      ],
      "metadata": {
        "colab": {
          "base_uri": "https://localhost:8080/"
        },
        "id": "sG1FjAGH3TZD",
        "outputId": "58295486-fc03-4c41-e41b-c165fd838465"
      },
      "execution_count": 222,
      "outputs": [
        {
          "output_type": "execute_result",
          "data": {
            "text/plain": [
              "{'lasso__alpha': 0.1}"
            ]
          },
          "metadata": {},
          "execution_count": 222
        }
      ]
    },
    {
      "cell_type": "code",
      "source": [
        "gs_lasso_predict = gs_lasso_pipe.predict(X_test_scaled)\n",
        "print(f\"MSE for Lasso: {mean_squared_error(gs_lasso_predict, y_test)}\")"
      ],
      "metadata": {
        "colab": {
          "base_uri": "https://localhost:8080/"
        },
        "id": "VSoSiHCdWtu_",
        "outputId": "27688d66-8144-43bd-9a39-7ea35874beae"
      },
      "execution_count": 226,
      "outputs": [
        {
          "output_type": "stream",
          "name": "stdout",
          "text": [
            "MSE for Lasso: 49.88779882692656\n"
          ]
        }
      ]
    },
    {
      "cell_type": "markdown",
      "source": [
        "Best parameter for alpha is 0.1"
      ],
      "metadata": {
        "id": "pSVRuRxkYGRu"
      }
    },
    {
      "cell_type": "markdown",
      "source": [
        "ElasticNet"
      ],
      "metadata": {
        "id": "DzXuan9_5ATf"
      }
    },
    {
      "cell_type": "code",
      "source": [
        "EN_pipe = Pipeline([\n",
        "    ('pf', PolynomialFeatures(degree=5)),\n",
        "    ('ElasticNet', ElasticNet())])\n",
        "EN_pipe_params = {'ElasticNet__alpha':[0.001, 0.01, 0.1, 0, 1, 2, 3, 4, 5, 6, 6.1, 8, 9, 10, 100], \n",
        "                     'ElasticNet__l1_ratio':[0.001, 0.01, 0.1, 0, 1, 2, 3, 4, 5, 6, 6.1, 8, 9, 10, 100]}"
      ],
      "metadata": {
        "id": "SAcscAZT4BxH"
      },
      "execution_count": 128,
      "outputs": []
    },
    {
      "cell_type": "code",
      "source": [
        "en_pipe = GridSearchCV(estimator=EN_pipe, param_grid=EN_pipe_params, cv=10, verbose=0)\n",
        "\n",
        "en_pipe.fit(X_train_scaled.reshape(-1, 1), y_train)\n",
        "en_pipe.best_params_"
      ],
      "metadata": {
        "colab": {
          "base_uri": "https://localhost:8080/"
        },
        "id": "e-VUHahA4Bz-",
        "outputId": "759a99bb-418d-40cc-d328-2924490b9f20"
      },
      "execution_count": 228,
      "outputs": [
        {
          "output_type": "execute_result",
          "data": {
            "text/plain": [
              "{'ElasticNet__alpha': 0.1, 'ElasticNet__l1_ratio': 1}"
            ]
          },
          "metadata": {},
          "execution_count": 228
        }
      ]
    },
    {
      "cell_type": "code",
      "source": [
        "gs_en_predict = en_pipe.predict(X_test_scaled)\n",
        "print(f\"MSE for ElasticNet: {mean_squared_error(gs_en_predict, y_test)}\")"
      ],
      "metadata": {
        "colab": {
          "base_uri": "https://localhost:8080/"
        },
        "id": "1HzXnank4ruk",
        "outputId": "5f780667-cd8f-4964-f84c-06d7deee0809"
      },
      "execution_count": 229,
      "outputs": [
        {
          "output_type": "stream",
          "name": "stdout",
          "text": [
            "MSE for ElasticNet: 49.88779882692656\n"
          ]
        }
      ]
    },
    {
      "cell_type": "markdown",
      "source": [
        "So one can see that Ridge is the best among these 3"
      ],
      "metadata": {
        "id": "ORBEX1LAXak_"
      }
    },
    {
      "cell_type": "markdown",
      "source": [
        "# Lowess regression"
      ],
      "metadata": {
        "id": "QLLcyk9edc1V"
      }
    },
    {
      "cell_type": "code",
      "source": [
        "for frac in np.linspace(0.05, 1, 20):\n",
        "    lowess_model = lowess(y_train, X_train.flatten(), frac=frac)\n",
        "    lowess_pred = np.interp(X_dev.flatten(), lowess_model[:, 0], lowess_model[:, 1])\n",
        "    mse = mean_squared_error(y_dev, lowess_pred)\n",
        "\n",
        "    if mse < best_lowess_mse:\n",
        "        best_lowess_mse = mse\n",
        "        best_frac = frac\n",
        "        best_lowess = lowess_model\n",
        "\n",
        "print(f\"Best lowess frac: {best_frac}\")\n",
        "print(f\"Best lowess mse: {best_lowess_mse}\")"
      ],
      "metadata": {
        "colab": {
          "base_uri": "https://localhost:8080/"
        },
        "id": "L0tg3lpzExF1",
        "outputId": "44e96974-9b43-402b-c784-ee5194924c9c"
      },
      "execution_count": 218,
      "outputs": [
        {
          "output_type": "stream",
          "name": "stdout",
          "text": [
            "Best lowess frac: 0\n",
            "Best lowess mse: 77.07713360446857\n"
          ]
        }
      ]
    },
    {
      "cell_type": "code",
      "source": [
        "lowess_model"
      ],
      "metadata": {
        "id": "e2brVkRUHMJd"
      },
      "execution_count": null,
      "outputs": []
    },
    {
      "cell_type": "markdown",
      "source": [
        "# Selecting models with best parameters"
      ],
      "metadata": {
        "id": "bOQutp8_rrBl"
      }
    },
    {
      "cell_type": "markdown",
      "source": [
        "So here are models to test:\n",
        "\n",
        "- LinearRegression with polynomial feature =5;\n",
        "\n",
        "- Ridge regression with alpha=10 and polynomial feature =5; \n",
        "\n",
        "- Lowess regression with frac=0.15;\n"
      ],
      "metadata": {
        "id": "4AgGtoc6sEQ0"
      }
    },
    {
      "cell_type": "markdown",
      "source": [
        "Concatenate dev+train datasets"
      ],
      "metadata": {
        "id": "BFEX-6rztQcJ"
      }
    },
    {
      "cell_type": "code",
      "source": [
        "new_train_X = pd.concat([pd.DataFrame(X_train_scaled, columns=[\"X\"]), pd.DataFrame(X_dev_scaled, columns=[\"X\"])]).values\n",
        "new_train_y = pd.concat([pd.DataFrame(y_train, columns=[\"Y\"]), pd.DataFrame(y_dev, columns=[\"Y\"])]).values"
      ],
      "metadata": {
        "id": "jHnclH5UvJpk"
      },
      "execution_count": 202,
      "outputs": []
    },
    {
      "cell_type": "code",
      "source": [
        "model_1 = PolynomialRegression(degree=5)\n",
        "model_2 = Ridge(alpha=10)\n",
        "model_3 = lowess_model"
      ],
      "metadata": {
        "id": "57fgiy7nF9jx"
      },
      "execution_count": 207,
      "outputs": []
    },
    {
      "cell_type": "code",
      "source": [
        "model_1.fit(new_train_X, new_train_y)\n",
        "model_1_pred = model_1.predict(X_test_scaled) \n",
        "# model_1.score(X_test_scaled, y_test)\n",
        "mean_squared_error(model_1_pred, y_test)"
      ],
      "metadata": {
        "colab": {
          "base_uri": "https://localhost:8080/"
        },
        "id": "X0usUOcEt0Up",
        "outputId": "4a8c2fe3-25d1-4d48-aeae-76235cae382e"
      },
      "execution_count": 208,
      "outputs": [
        {
          "output_type": "execute_result",
          "data": {
            "text/plain": [
              "48.39373496381753"
            ]
          },
          "metadata": {},
          "execution_count": 208
        }
      ]
    },
    {
      "cell_type": "code",
      "source": [
        "model_2.fit(new_train_X, new_train_y)\n",
        "model_2_pred = model_2.predict(X_test_scaled) \n",
        "# model_2.score(X_test_scaled, y_test)\n",
        "mean_squared_error(model_2_pred, y_test)"
      ],
      "metadata": {
        "colab": {
          "base_uri": "https://localhost:8080/"
        },
        "id": "RBVa-azrwWy8",
        "outputId": "d3b3a91d-df19-40ca-8149-fb0c44dbf71b"
      },
      "execution_count": 209,
      "outputs": [
        {
          "output_type": "execute_result",
          "data": {
            "text/plain": [
              "61.131562157149105"
            ]
          },
          "metadata": {},
          "execution_count": 209
        }
      ]
    },
    {
      "cell_type": "code",
      "source": [
        "lowess_model = lowess(y_train, X_train.flatten(), frac=0.15)\n",
        "lowess_pred = np.interp(X_test.flatten(), lowess_model[:, 0], lowess_model[:, 1])\n",
        "mse = mean_squared_error(y_test, lowess_pred)\n",
        "mse "
      ],
      "metadata": {
        "id": "IIPpTj8lwbL1",
        "colab": {
          "base_uri": "https://localhost:8080/"
        },
        "outputId": "bc676859-e060-4df4-9864-9ea96fa8c978"
      },
      "execution_count": 217,
      "outputs": [
        {
          "output_type": "execute_result",
          "data": {
            "text/plain": [
              "42.9750469481841"
            ]
          },
          "metadata": {},
          "execution_count": 217
        }
      ]
    },
    {
      "cell_type": "markdown",
      "source": [
        "So, the best estimator is Lowess regression with respect to performance on test dataset"
      ],
      "metadata": {
        "id": "RzKVGuxtx5gg"
      }
    },
    {
      "cell_type": "code",
      "source": [],
      "metadata": {
        "id": "kZey_kmKJNnj"
      },
      "execution_count": null,
      "outputs": []
    }
  ]
}