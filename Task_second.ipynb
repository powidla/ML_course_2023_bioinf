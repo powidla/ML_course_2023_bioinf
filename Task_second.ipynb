{
  "cells": [
    {
      "cell_type": "code",
      "execution_count": 1,
      "id": "e40f6ce2",
      "metadata": {
        "id": "e40f6ce2"
      },
      "outputs": [],
      "source": [
        "import numpy as np\n",
        "import pandas as pd\n",
        "from sklearn.model_selection import train_test_split\n",
        "from sklearn.preprocessing import PolynomialFeatures, StandardScaler\n",
        "from sklearn.linear_model import LinearRegression, LassoCV, RidgeCV, ElasticNetCV\n",
        "from sklearn.pipeline import make_pipeline\n",
        "from sklearn.metrics import mean_squared_error\n",
        "import statsmodels.api as sm\n",
        "from statsmodels.nonparametric.smoothers_lowess import lowess"
      ]
    },
    {
      "cell_type": "markdown",
      "source": [
        "Read data"
      ],
      "metadata": {
        "id": "m4gOhmIGUPzy"
      },
      "id": "m4gOhmIGUPzy"
    },
    {
      "cell_type": "code",
      "execution_count": 2,
      "id": "2807b314",
      "metadata": {
        "id": "2807b314"
      },
      "outputs": [],
      "source": [
        "data = pd.read_csv(\"hw1.EX2.csv\")"
      ]
    },
    {
      "cell_type": "code",
      "execution_count": 3,
      "id": "4eddb34c",
      "metadata": {
        "colab": {
          "base_uri": "https://localhost:8080/",
          "height": 206
        },
        "id": "4eddb34c",
        "outputId": "fb3bf7f8-edc5-4065-d3f9-5917812c7f70"
      },
      "outputs": [
        {
          "output_type": "execute_result",
          "data": {
            "text/plain": [
              "           X     Y\n",
              "0   84.87882  37.9\n",
              "1  306.59470  42.2\n",
              "2  561.98450  47.3\n",
              "3  561.98450  54.8\n",
              "4  390.56840  43.1"
            ],
            "text/html": [
              "\n",
              "  <div id=\"df-e8cb72ce-816e-412d-9071-40f54389fb5d\">\n",
              "    <div class=\"colab-df-container\">\n",
              "      <div>\n",
              "<style scoped>\n",
              "    .dataframe tbody tr th:only-of-type {\n",
              "        vertical-align: middle;\n",
              "    }\n",
              "\n",
              "    .dataframe tbody tr th {\n",
              "        vertical-align: top;\n",
              "    }\n",
              "\n",
              "    .dataframe thead th {\n",
              "        text-align: right;\n",
              "    }\n",
              "</style>\n",
              "<table border=\"1\" class=\"dataframe\">\n",
              "  <thead>\n",
              "    <tr style=\"text-align: right;\">\n",
              "      <th></th>\n",
              "      <th>X</th>\n",
              "      <th>Y</th>\n",
              "    </tr>\n",
              "  </thead>\n",
              "  <tbody>\n",
              "    <tr>\n",
              "      <th>0</th>\n",
              "      <td>84.87882</td>\n",
              "      <td>37.9</td>\n",
              "    </tr>\n",
              "    <tr>\n",
              "      <th>1</th>\n",
              "      <td>306.59470</td>\n",
              "      <td>42.2</td>\n",
              "    </tr>\n",
              "    <tr>\n",
              "      <th>2</th>\n",
              "      <td>561.98450</td>\n",
              "      <td>47.3</td>\n",
              "    </tr>\n",
              "    <tr>\n",
              "      <th>3</th>\n",
              "      <td>561.98450</td>\n",
              "      <td>54.8</td>\n",
              "    </tr>\n",
              "    <tr>\n",
              "      <th>4</th>\n",
              "      <td>390.56840</td>\n",
              "      <td>43.1</td>\n",
              "    </tr>\n",
              "  </tbody>\n",
              "</table>\n",
              "</div>\n",
              "      <button class=\"colab-df-convert\" onclick=\"convertToInteractive('df-e8cb72ce-816e-412d-9071-40f54389fb5d')\"\n",
              "              title=\"Convert this dataframe to an interactive table.\"\n",
              "              style=\"display:none;\">\n",
              "        \n",
              "  <svg xmlns=\"http://www.w3.org/2000/svg\" height=\"24px\"viewBox=\"0 0 24 24\"\n",
              "       width=\"24px\">\n",
              "    <path d=\"M0 0h24v24H0V0z\" fill=\"none\"/>\n",
              "    <path d=\"M18.56 5.44l.94 2.06.94-2.06 2.06-.94-2.06-.94-.94-2.06-.94 2.06-2.06.94zm-11 1L8.5 8.5l.94-2.06 2.06-.94-2.06-.94L8.5 2.5l-.94 2.06-2.06.94zm10 10l.94 2.06.94-2.06 2.06-.94-2.06-.94-.94-2.06-.94 2.06-2.06.94z\"/><path d=\"M17.41 7.96l-1.37-1.37c-.4-.4-.92-.59-1.43-.59-.52 0-1.04.2-1.43.59L10.3 9.45l-7.72 7.72c-.78.78-.78 2.05 0 2.83L4 21.41c.39.39.9.59 1.41.59.51 0 1.02-.2 1.41-.59l7.78-7.78 2.81-2.81c.8-.78.8-2.07 0-2.86zM5.41 20L4 18.59l7.72-7.72 1.47 1.35L5.41 20z\"/>\n",
              "  </svg>\n",
              "      </button>\n",
              "      \n",
              "  <style>\n",
              "    .colab-df-container {\n",
              "      display:flex;\n",
              "      flex-wrap:wrap;\n",
              "      gap: 12px;\n",
              "    }\n",
              "\n",
              "    .colab-df-convert {\n",
              "      background-color: #E8F0FE;\n",
              "      border: none;\n",
              "      border-radius: 50%;\n",
              "      cursor: pointer;\n",
              "      display: none;\n",
              "      fill: #1967D2;\n",
              "      height: 32px;\n",
              "      padding: 0 0 0 0;\n",
              "      width: 32px;\n",
              "    }\n",
              "\n",
              "    .colab-df-convert:hover {\n",
              "      background-color: #E2EBFA;\n",
              "      box-shadow: 0px 1px 2px rgba(60, 64, 67, 0.3), 0px 1px 3px 1px rgba(60, 64, 67, 0.15);\n",
              "      fill: #174EA6;\n",
              "    }\n",
              "\n",
              "    [theme=dark] .colab-df-convert {\n",
              "      background-color: #3B4455;\n",
              "      fill: #D2E3FC;\n",
              "    }\n",
              "\n",
              "    [theme=dark] .colab-df-convert:hover {\n",
              "      background-color: #434B5C;\n",
              "      box-shadow: 0px 1px 3px 1px rgba(0, 0, 0, 0.15);\n",
              "      filter: drop-shadow(0px 1px 2px rgba(0, 0, 0, 0.3));\n",
              "      fill: #FFFFFF;\n",
              "    }\n",
              "  </style>\n",
              "\n",
              "      <script>\n",
              "        const buttonEl =\n",
              "          document.querySelector('#df-e8cb72ce-816e-412d-9071-40f54389fb5d button.colab-df-convert');\n",
              "        buttonEl.style.display =\n",
              "          google.colab.kernel.accessAllowed ? 'block' : 'none';\n",
              "\n",
              "        async function convertToInteractive(key) {\n",
              "          const element = document.querySelector('#df-e8cb72ce-816e-412d-9071-40f54389fb5d');\n",
              "          const dataTable =\n",
              "            await google.colab.kernel.invokeFunction('convertToInteractive',\n",
              "                                                     [key], {});\n",
              "          if (!dataTable) return;\n",
              "\n",
              "          const docLinkHtml = 'Like what you see? Visit the ' +\n",
              "            '<a target=\"_blank\" href=https://colab.research.google.com/notebooks/data_table.ipynb>data table notebook</a>'\n",
              "            + ' to learn more about interactive tables.';\n",
              "          element.innerHTML = '';\n",
              "          dataTable['output_type'] = 'display_data';\n",
              "          await google.colab.output.renderOutput(dataTable, element);\n",
              "          const docLink = document.createElement('div');\n",
              "          docLink.innerHTML = docLinkHtml;\n",
              "          element.appendChild(docLink);\n",
              "        }\n",
              "      </script>\n",
              "    </div>\n",
              "  </div>\n",
              "  "
            ]
          },
          "metadata": {},
          "execution_count": 3
        }
      ],
      "source": [
        "data.head()"
      ]
    },
    {
      "cell_type": "code",
      "execution_count": 4,
      "id": "61c7f1b8",
      "metadata": {
        "id": "61c7f1b8"
      },
      "outputs": [],
      "source": [
        "X=data[\"X\"]\n",
        "y=data[\"Y\"]"
      ]
    },
    {
      "cell_type": "markdown",
      "source": [
        "Split "
      ],
      "metadata": {
        "id": "i_g81xPyUT85"
      },
      "id": "i_g81xPyUT85"
    },
    {
      "cell_type": "code",
      "execution_count": 6,
      "id": "4696dd12",
      "metadata": {
        "id": "4696dd12"
      },
      "outputs": [],
      "source": [
        "X_train_dev, X_test, y_train_dev, y_test = train_test_split(X, y, test_size=0.2, random_state=42)\n",
        "X_train, X_dev, y_train, y_dev = train_test_split(X_train_dev, y_train_dev, test_size=0.25, random_state=42)"
      ]
    },
    {
      "cell_type": "markdown",
      "source": [
        "Linear regression and polynoms search for best degree"
      ],
      "metadata": {
        "id": "ux5sk18oUZte"
      },
      "id": "ux5sk18oUZte"
    },
    {
      "cell_type": "code",
      "execution_count": 12,
      "id": "e245b134",
      "metadata": {
        "colab": {
          "base_uri": "https://localhost:8080/"
        },
        "id": "e245b134",
        "outputId": "a0f9feb7-66d7-4f4f-e2e3-f7560db41a77"
      },
      "outputs": [
        {
          "output_type": "stream",
          "name": "stdout",
          "text": [
            "Best polynomial degree: 4\n",
            "Best mse: 63.1960520531872\n",
            "Best best_model: Pipeline(steps=[('polynomialfeatures', PolynomialFeatures(degree=4)),\n",
            "                ('linearregression', LinearRegression())])\n"
          ]
        }
      ],
      "source": [
        "best_degree = None\n",
        "best_mse = np.inf\n",
        "best_poly_model = None\n",
        "\n",
        "for degree in range(1, 21):\n",
        "    model = make_pipeline(PolynomialFeatures(degree), LinearRegression())\n",
        "    model.fit(np.array(X_train).reshape(-1,1), y_train)\n",
        "    y_pred = model.predict(np.array(X_dev).reshape(-1,1))\n",
        "    mse = mean_squared_error(y_dev, y_pred)\n",
        "    \n",
        "    if mse < best_mse:\n",
        "        best_mse = mse\n",
        "        best_degree = degree\n",
        "        best_poly_model = model\n",
        "\n",
        "print(f\"Best polynomial degree: {best_degree}\")\n",
        "print(f\"Best mse: {best_mse}\")\n",
        "print(f\"Best best_model: {best_poly_model}\")"
      ]
    },
    {
      "cell_type": "code",
      "source": [
        "mean_squared_error(y_train, best_poly_model.predict(np.array(X_train).reshape(-1,1))) \n"
      ],
      "metadata": {
        "colab": {
          "base_uri": "https://localhost:8080/"
        },
        "id": "5znq_XE7U6gt",
        "outputId": "09ca23f7-eb75-4106-9ecb-d214e97568d5"
      },
      "id": "5znq_XE7U6gt",
      "execution_count": 14,
      "outputs": [
        {
          "output_type": "execute_result",
          "data": {
            "text/plain": [
              "92.70965985046952"
            ]
          },
          "metadata": {},
          "execution_count": 14
        }
      ]
    },
    {
      "cell_type": "markdown",
      "source": [
        "Normalization"
      ],
      "metadata": {
        "id": "a4S7nZpIVBCR"
      },
      "id": "a4S7nZpIVBCR"
    },
    {
      "cell_type": "code",
      "execution_count": 17,
      "id": "c8d98d1a",
      "metadata": {
        "id": "c8d98d1a"
      },
      "outputs": [],
      "source": [
        "scaler = StandardScaler()\n",
        "X_train_std = scaler.fit_transform(np.array(X_train).reshape(-1,1))\n",
        "X_dev_std = scaler.transform(np.array(X_dev).reshape(-1,1))"
      ]
    },
    {
      "cell_type": "markdown",
      "source": [
        "Add regularization of 3 possible "
      ],
      "metadata": {
        "id": "sxxhSWVXVLNm"
      },
      "id": "sxxhSWVXVLNm"
    },
    {
      "cell_type": "code",
      "execution_count": null,
      "id": "2e3f23e0",
      "metadata": {
        "id": "2e3f23e0"
      },
      "outputs": [],
      "source": [
        "regularization_models = [LassoCV, RidgeCV, ElasticNetCV]\n",
        "best_reg_model = None\n",
        "best_reg_mse = np.inf\n",
        "best_reg_model_name = \"\"\n",
        "\n",
        "for reg_model in regularization_models:\n",
        "    model = make_pipeline(PolynomialFeatures(5), reg_model())\n",
        "    model.fit(X_train_std, y_train)\n",
        "    y_pred = model.predict(X_dev_std)\n",
        "    mse = mean_squared_error(y_dev, y_pred)\n",
        "    \n",
        "    if mse < best_reg_mse:\n",
        "        best_reg_mse = mse\n",
        "        best_reg_model = model\n",
        "        best_reg_model_name = reg_model.__name__"
      ]
    },
    {
      "cell_type": "code",
      "source": [
        "best_reg_model.named_steps[best_reg_model_name.lower()].alpha_"
      ],
      "metadata": {
        "colab": {
          "base_uri": "https://localhost:8080/"
        },
        "id": "pKEd8ep0VZjN",
        "outputId": "dd1aae84-3fe6-41d4-f1ab-ca55e9167548"
      },
      "id": "pKEd8ep0VZjN",
      "execution_count": 21,
      "outputs": [
        {
          "output_type": "execute_result",
          "data": {
            "text/plain": [
              "10.0"
            ]
          },
          "metadata": {},
          "execution_count": 21
        }
      ]
    },
    {
      "cell_type": "code",
      "source": [
        "best_reg_model_name"
      ],
      "metadata": {
        "colab": {
          "base_uri": "https://localhost:8080/",
          "height": 36
        },
        "id": "dlvuWnvhVWSd",
        "outputId": "7d78ae10-c742-4c91-801e-6e2f237cd9c1"
      },
      "id": "dlvuWnvhVWSd",
      "execution_count": 20,
      "outputs": [
        {
          "output_type": "execute_result",
          "data": {
            "text/plain": [
              "'RidgeCV'"
            ],
            "application/vnd.google.colaboratory.intrinsic+json": {
              "type": "string"
            }
          },
          "metadata": {},
          "execution_count": 20
        }
      ]
    },
    {
      "cell_type": "markdown",
      "source": [
        "Lowess model from package stat"
      ],
      "metadata": {
        "id": "CMfSueJZVeZO"
      },
      "id": "CMfSueJZVeZO"
    },
    {
      "cell_type": "code",
      "execution_count": 25,
      "id": "dd9e44bb",
      "metadata": {
        "id": "dd9e44bb"
      },
      "outputs": [],
      "source": [
        "best_frac = None\n",
        "best_lowess_mse = np.inf\n",
        "best_lowess = None\n",
        "\n",
        "for frac in np.linspace(0.05, 1, 20):\n",
        "    lowess_model = lowess(y_train, X_train, frac=frac)\n",
        "    lowess_pred = np.interp(X_dev, lowess_model[:, 0], lowess_model[:, 1])\n",
        "    mse = mean_squared_error(y_dev, lowess_pred)\n",
        "\n",
        "    if mse < best_lowess_mse:\n",
        "        best_lowess_mse = mse\n",
        "        best_frac = frac\n",
        "        best_lowess = lowess_model"
      ]
    },
    {
      "cell_type": "code",
      "source": [
        "best_frac"
      ],
      "metadata": {
        "colab": {
          "base_uri": "https://localhost:8080/"
        },
        "id": "9K-D1OpcVlfF",
        "outputId": "10a1ce7b-b125-4caa-a1f0-0b21b74004fa"
      },
      "id": "9K-D1OpcVlfF",
      "execution_count": 26,
      "outputs": [
        {
          "output_type": "execute_result",
          "data": {
            "text/plain": [
              "0.15"
            ]
          },
          "metadata": {},
          "execution_count": 26
        }
      ]
    },
    {
      "cell_type": "markdown",
      "source": [
        "Last train of full set and test on test"
      ],
      "metadata": {
        "id": "ob0nxXq9VsS9"
      },
      "id": "ob0nxXq9VsS9"
    },
    {
      "cell_type": "code",
      "source": [
        "X_train_dev_std = scaler.fit_transform(np.array(X_train_dev).reshape(-1,1))\n",
        "X_test_std = scaler.transform(np.array(X_test).reshape(-1,1))"
      ],
      "metadata": {
        "id": "Z1lYywT7VxQN"
      },
      "id": "Z1lYywT7VxQN",
      "execution_count": 28,
      "outputs": []
    },
    {
      "cell_type": "code",
      "source": [
        "best_poly_model.fit(np.array(X_train_dev).reshape(-1,1), y_train_dev)\n",
        "best_reg_model.fit(np.array(X_train_dev).reshape(-1,1), y_train_dev)\n",
        "best_lowess_full = lowess(y_train_dev, X_train_dev, frac=best_frac)"
      ],
      "metadata": {
        "id": "ErmSJJAOV9tO"
      },
      "id": "ErmSJJAOV9tO",
      "execution_count": 31,
      "outputs": []
    },
    {
      "cell_type": "code",
      "source": [
        "y_test_pred_poly = best_poly_model.predict(np.array(X_test).reshape(-1,1))\n",
        "y_test_pred_reg = best_reg_model.predict(np.array(X_test).reshape(-1,1))\n",
        "y_test_pred_lowess = np.interp(X_test, best_lowess_full[:, 0], best_lowess_full[:, 1])"
      ],
      "metadata": {
        "id": "u75X1HqtWNCp"
      },
      "id": "u75X1HqtWNCp",
      "execution_count": 37,
      "outputs": []
    },
    {
      "cell_type": "code",
      "source": [
        "mse_test_poly = mean_squared_error(y_test, y_test_pred_poly)\n",
        "mse_test_reg = mean_squared_error(y_test, y_test_pred_reg)\n",
        "mse_test_lowess = mean_squared_error(y_test, y_test_pred_lowess)"
      ],
      "metadata": {
        "id": "8_Qt0EOfWViN"
      },
      "id": "8_Qt0EOfWViN",
      "execution_count": 38,
      "outputs": []
    },
    {
      "cell_type": "code",
      "execution_count": 34,
      "id": "ba3a2cdc",
      "metadata": {
        "colab": {
          "base_uri": "https://localhost:8080/"
        },
        "id": "ba3a2cdc",
        "outputId": "8e86f4f0-397c-42df-da6c-c7936f483e34"
      },
      "outputs": [
        {
          "output_type": "execute_result",
          "data": {
            "text/plain": [
              "59.67511516428468"
            ]
          },
          "metadata": {},
          "execution_count": 34
        }
      ],
      "source": [
        "mse_test_poly"
      ]
    },
    {
      "cell_type": "code",
      "source": [
        "mse_test_lowess"
      ],
      "metadata": {
        "colab": {
          "base_uri": "https://localhost:8080/"
        },
        "id": "J0vxewIxWcYl",
        "outputId": "cc1ef0e2-5ca2-428d-cb08-ce0eab9eb690"
      },
      "id": "J0vxewIxWcYl",
      "execution_count": 36,
      "outputs": [
        {
          "output_type": "execute_result",
          "data": {
            "text/plain": [
              "50.02827183326719"
            ]
          },
          "metadata": {},
          "execution_count": 36
        }
      ]
    },
    {
      "cell_type": "markdown",
      "source": [
        "Lowess is the best"
      ],
      "metadata": {
        "id": "AJPb5mKsWi2g"
      },
      "id": "AJPb5mKsWi2g"
    },
    {
      "cell_type": "code",
      "source": [],
      "metadata": {
        "id": "kwUL_AY-WkI_"
      },
      "id": "kwUL_AY-WkI_",
      "execution_count": null,
      "outputs": []
    }
  ],
  "metadata": {
    "kernelspec": {
      "display_name": "Python 3 (ipykernel)",
      "language": "python",
      "name": "python3"
    },
    "language_info": {
      "codemirror_mode": {
        "name": "ipython",
        "version": 3
      },
      "file_extension": ".py",
      "mimetype": "text/x-python",
      "name": "python",
      "nbconvert_exporter": "python",
      "pygments_lexer": "ipython3",
      "version": "3.9.12"
    },
    "colab": {
      "provenance": []
    }
  },
  "nbformat": 4,
  "nbformat_minor": 5
}